{
 "cells": [
  {
   "cell_type": "code",
   "execution_count": 1,
   "id": "c4038ae9",
   "metadata": {},
   "outputs": [
    {
     "name": "stdout",
     "output_type": "stream",
     "text": [
      "\u001b[1m============================= test session starts =============================\u001b[0m\n",
      "platform win32 -- Python 3.12.4, pytest-8.4.1, pluggy-1.6.0 -- C:\\Users\\Александр\\AppData\\Local\\Programs\\Python\\Python312\\python.exe\n",
      "cachedir: .pytest_cache\n",
      "rootdir: c:\\Users\\Александр\\Documents\\тестирование\\кт2\n",
      "\u001b[1mcollecting ... \u001b[0mcollected 8 items\n",
      "\n",
      "test_string_utils.py::TestGetStringLength::test_empty_string \u001b[32mPASSED\u001b[0m\u001b[32m      [ 12%]\u001b[0m\n",
      "test_string_utils.py::TestGetStringLength::test_multiline_string \u001b[31mFAILED\u001b[0m\u001b[31m  [ 25%]\u001b[0m\n",
      "test_string_utils.py::TestGetStringLength::test_spaces_string \u001b[32mPASSED\u001b[0m\u001b[31m     [ 37%]\u001b[0m\n",
      "test_string_utils.py::TestGetStringLength::test_unicode_string \u001b[32mPASSED\u001b[0m\u001b[31m    [ 50%]\u001b[0m\n",
      "test_string_utils.py::TestSaveToFile::test_save_string \u001b[32mPASSED\u001b[0m\u001b[31m            [ 62%]\u001b[0m\n",
      "test_string_utils.py::TestSaveToFile::test_save_empty_string \u001b[32mPASSED\u001b[0m\u001b[31m      [ 75%]\u001b[0m\n",
      "test_string_utils.py::TestDatabase::test_create_table \u001b[32mPASSED\u001b[0m\u001b[31m             [ 87%]\u001b[0m\n",
      "test_string_utils.py::TestDatabase::test_empty_database \u001b[32mPASSED\u001b[0m\u001b[31m           [100%]\u001b[0m\n",
      "\n",
      "================================== FAILURES ===================================\n",
      "\u001b[31m\u001b[1m__________________ TestGetStringLength.test_multiline_string __________________\u001b[0m\n",
      "\n",
      "self = <test_string_utils.TestGetStringLength object at 0x000001BE35EC0EF0>\n",
      "\n",
      "    \u001b[0m\u001b[94mdef\u001b[39;49;00m\u001b[90m \u001b[39;49;00m\u001b[92mtest_multiline_string\u001b[39;49;00m(\u001b[96mself\u001b[39;49;00m):\u001b[90m\u001b[39;49;00m\n",
      "        text = \u001b[33m\"\"\"\u001b[39;49;00m\u001b[33mLine 1\u001b[39;49;00m\u001b[33m\u001b[39;49;00m\n",
      "    \u001b[33m    Line 2\u001b[39;49;00m\u001b[33m\u001b[39;49;00m\n",
      "    \u001b[33m    Line 3\u001b[39;49;00m\u001b[33m\"\"\"\u001b[39;49;00m\u001b[90m\u001b[39;49;00m\n",
      ">       \u001b[94massert\u001b[39;49;00m get_string_length(text) == \u001b[94m33\u001b[39;49;00m\u001b[90m\u001b[39;49;00m\n",
      "\u001b[1m\u001b[31mE       AssertionError: assert 36 == 33\u001b[0m\n",
      "\u001b[1m\u001b[31mE        +  where 36 = get_string_length('Line 1\\n        Line 2\\n        Line 3')\u001b[0m\n",
      "\n",
      "\u001b[1m\u001b[31mtest_string_utils.py\u001b[0m:14: AssertionError\n",
      "\u001b[36m\u001b[1m=========================== short test summary info ===========================\u001b[0m\n",
      "\u001b[31mFAILED\u001b[0m test_string_utils.py::\u001b[1mTestGetStringLength::test_multiline_string\u001b[0m - AssertionError: assert 36 == 33\n",
      "\u001b[31m========================= \u001b[31m\u001b[1m1 failed\u001b[0m, \u001b[32m7 passed\u001b[0m\u001b[31m in 0.34s\u001b[0m\u001b[31m =========================\u001b[0m\n"
     ]
    }
   ],
   "source": [
    "\n",
    "!pytest test_string_utils.py -v"
   ]
  },
  {
   "cell_type": "code",
   "execution_count": null,
   "id": "161af454",
   "metadata": {},
   "outputs": [],
   "source": []
  },
  {
   "cell_type": "code",
   "execution_count": null,
   "id": "a6e72bdf",
   "metadata": {},
   "outputs": [],
   "source": []
  }
 ],
 "metadata": {
  "kernelspec": {
   "display_name": "Python 3",
   "language": "python",
   "name": "python3"
  },
  "language_info": {
   "codemirror_mode": {
    "name": "ipython",
    "version": 3
   },
   "file_extension": ".py",
   "mimetype": "text/x-python",
   "name": "python",
   "nbconvert_exporter": "python",
   "pygments_lexer": "ipython3",
   "version": "3.12.4"
  }
 },
 "nbformat": 4,
 "nbformat_minor": 5
}
